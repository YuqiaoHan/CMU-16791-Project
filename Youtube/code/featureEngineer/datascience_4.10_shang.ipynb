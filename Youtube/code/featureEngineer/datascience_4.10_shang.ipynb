{
 "cells": [
  {
   "cell_type": "code",
   "execution_count": 111,
   "metadata": {},
   "outputs": [
    {
     "name": "stdout",
     "output_type": "stream",
     "text": [
      "20932130\n",
      "195065.33333333308\n"
     ]
    },
    {
     "data": {
      "text/plain": [
       "Text(0.5, 1.0, 'special character in title')"
      ]
     },
     "execution_count": 111,
     "metadata": {},
     "output_type": "execute_result"
    },
    {
     "data": {
      "image/png": "[encoded data removed]",
      "text/plain": [
       "<Figure size 432x288 with 1 Axes>"
      ]
     },
     "metadata": {
      "needs_background": "light"
     },
     "output_type": "display_data"
    }
   ],
   "source": [
    "%matplotlib inline\n",
    "import matplotlib.pyplot as plt\n",
    "import pandas as pd\n",
    "import numpy as np\n",
    "import datetime\n",
    "import re\n",
    "\n",
    "def hasNumbers(inputString):\n",
    "    return bool(re.search(r'\\d', inputString))\n",
    "def hasSpecial(inputString):\n",
    "    if all(x.isalpha() or x.isspace() or x.isnumeric() for x in inputString):\n",
    "        return False\n",
    "    else:\n",
    "        return True\n",
    "\n",
    "df = pd.read_csv('USvideos.csv')\n",
    "\n",
    "df_trending = df[[\"trending_date\"]]\n",
    "df_trending_add = \"20\" + df_trending[\"trending_date\"].astype(str)\n",
    "df_trending_year = df_trending_add.str[0:4]\n",
    "df_trending_day = df_trending_add.str[5:7]\n",
    "df_trending_mon = df_trending_add.str[8:10]\n",
    "df_trending_date_add = df_trending_year.astype(str)+\"-\" + df_trending_mon.astype(str) +\"-\"+ df_trending_day.astype(str)\n",
    "data_trending= pd.to_datetime(df_trending_date_add) \n",
    "\n",
    "df_publish = df[[\"publish_time\"]]\n",
    "df_publish_sub = df_publish[\"publish_time\"].str[0:10]\n",
    "df_publish_year = df_publish_sub.str[0:4]\n",
    "df_publish_day = df_publish_sub.str[8:10]\n",
    "df_publish_mon = df_publish_sub.str[5:7]\n",
    "df_publish_date_add = df_publish_year.astype(str)+\"-\" + df_publish_mon.astype(str) +\"-\"+ df_publish_day.astype(str)\n",
    "data_publish= pd.to_datetime(df_publish_date_add) \n",
    "\n",
    "sub = data_trending - data_publish\n",
    "\n",
    "#prevent from 0\n",
    "sub_int = sub.dt.days + 1\n",
    "\n",
    "df[\"sub_date\"] = sub_int\n",
    "df[\"daily_views\"] = df[\"views\"] / df[\"sub_date\"]\n",
    "df[\"daily_likes\"] = df[\"likes\"] / df[\"sub_date\"]\n",
    "df[\"daily_dislikes\"] = df[\"dislikes\"] / df[\"sub_date\"]\n",
    "df[\"daily_comment_count\"] = df[\"comment_count\"] / df[\"sub_date\"]\n",
    "\n",
    "\n",
    "#数据采样时间\n",
    "df.sub_date = df.sub_date.astype(int)\n",
    "#每日view\n",
    "df.daily_views = df.daily_views.astype(int)\n",
    "#每日likes\n",
    "df.daily_likes = df.daily_likes.astype(int)\n",
    "#每日dislikes\n",
    "df.daily_dislikes = df.daily_dislikes.astype(int)\n",
    "#每日comments\n",
    "df.daily_comment_count = df.daily_comment_count.astype(int)\n",
    "\n",
    "# max = df.daily_views.max()\n",
    "# min = df.daily_views.min()\n",
    "# one_third = int(1.0 * (max - min) / 3.0)\n",
    "# print(one_third)\n",
    "# print(max)\n",
    "# print(min)\n",
    "# two_third = int(2.0 * (max - min) / 3.0)\n",
    "\n",
    "one_third = df.daily_views.quantile(1.0 / 3.0)\n",
    "two_third = df.daily_views.quantile(2.0 / 3.0)\n",
    "\n",
    "daily_views_num = df.daily_views.tolist()\n",
    "daily_views_classification = []\n",
    "small = 0\n",
    "mid =0\n",
    "large = 0\n",
    "for item in daily_views_num:\n",
    "    if item <= one_third:\n",
    "        daily_views_classification.append(\"Small\")\n",
    "        small = small+ 1\n",
    "    if item >  one_third and item <= two_third:\n",
    "        daily_views_classification.append(\"Middle\")\n",
    "        mid = mid + 1\n",
    "    if item > two_third:\n",
    "        daily_views_classification.append(\"Large\")\n",
    "        large = large + 1\n",
    "# 每日views分类\n",
    "df[\"daily_view_classification\"] = daily_views_classification\n",
    "\n",
    "has_num = []\n",
    "has_num_count_true = 0\n",
    "has_num_count_false = 0\n",
    "has_special = []\n",
    "has_special_count_true = 0\n",
    "has_special_count_false = 0\n",
    "title = df.title.tolist()\n",
    "for item in title:\n",
    "    if (hasNumbers(item)):\n",
    "        has_num.append(\"True\")\n",
    "        has_num_count_true = has_num_count_true + 1\n",
    "    else:\n",
    "        has_num.append(\"False\")\n",
    "        has_num_count_false = has_num_count_false + 1\n",
    "    if (hasSpecial(item)):\n",
    "        has_special.append(\"True\")\n",
    "        has_special_count_true = has_special_count_true + 1\n",
    "    else:\n",
    "        has_special.append(\"False\")\n",
    "        has_special_count_false = has_special_count_false + 1\n",
    "#title是否有数字        \n",
    "df[\"title_has_num\"] = has_num\n",
    "#title 是否有字符\n",
    "df[\"title_has_special\"] = has_special\n",
    "\n",
    "df.to_csv(\"out_put.csv\", sep=',')\n",
    "\n",
    "# x = np.arange(3)\n",
    "# plt.bar(x, height= [small,mid,large])\n",
    "# plt.xticks(x, ['small','middle','large'])\n",
    "# plt.ylabel('number')\n",
    "# plt.title(\"classification of the daily views\")\n",
    "# x = np.arange(2)\n",
    "# plt.bar(x, height= [has_special_count_true,has_special_count_false])\n",
    "# plt.xticks(x, ['Ture','False'])\n",
    "# plt.ylabel('number')\n",
    "# plt.title(\"special character in title\")\n"
   ]
  },
  {
   "cell_type": "code",
   "execution_count": null,
   "metadata": {},
   "outputs": [],
   "source": []
  },
  {
   "cell_type": "code",
   "execution_count": null,
   "metadata": {},
   "outputs": [],
   "source": []
  }
 ],
 "metadata": {
  "kernelspec": {
   "display_name": "Python 3",
   "language": "python",
   "name": "python3"
  },
  "language_info": {
   "codemirror_mode": {
    "name": "ipython",
    "version": 3
   },
   "file_extension": ".py",
   "mimetype": "text/x-python",
   "name": "python",
   "nbconvert_exporter": "python",
   "pygments_lexer": "ipython3",
   "version": "3.6.5"
  }
 },
 "nbformat": 4,
 "nbformat_minor": 2
}
